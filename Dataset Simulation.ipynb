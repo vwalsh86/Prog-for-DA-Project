{
 "cells": [
  {
   "cell_type": "markdown",
   "metadata": {},
   "source": [
    "## Dataset Simulation\n",
    "\n",
    "<br>\n",
    "\n",
    "![title [1]](datasetimage.PNG)\n",
    "\n",
    "<br>\n",
    "\n",
    "## Submitted by: Valerie Walsh G00364748\n",
    "\n",
    "\n",
    "<br>\n",
    "<br>\n",
    "\n",
    "------------------------\n",
    "\n",
    "### Assignment: Fundamentals of Data Analysis\n",
    "\n",
    "<br>\n",
    "\n",
    "### Submission Date: 14th December 2018\n",
    "\n",
    "<br>\n",
    "\n",
    "--------------------------\n",
    "\n",
    "## Table of Contents\n",
    "\n",
    "<br>\n",
    "\n",
    "<ul>\n",
    "\n",
    "### <li> Introduction </li>\n",
    "### <li> Statement of Work </li>\n",
    "### <li> Technology Used </li>\n",
    "### <li> Aim of Investigation </li>\n",
    "### <li> Investigation </li>\n",
    "### <li> Summary </li>\n",
    "### <li> References </li> \n",
    "\n",
    "</ul>\n",
    "\n",
    "<br>\n",
    "\n",
    "------------------------------------\n",
    "------------------------------------\n",
    "\n",
    "\n",
    "## Introduction\n",
    "\n",
    "This repository has been created as apart of my coursework in Data Analytics. The subject of this repository is a study on Data Sets and the simulation and investigation of such. <br>\n",
    "I was given the freedom to pick my own topic for the research with the stipulation that it needs to be a real-life problem that can be investigated.\n",
    "It is my intention to use this repository to investigate all aspects of Data Set simulation with the available functions in Jupyter. [2] <br>\n",
    "\n",
    "Instructions on how to use Jupyter and the other systems that I am using can be found in the README file of this repo.\n",
    "\n",
    "<br>\n",
    "\n",
    "------------------------------\n",
    "\n",
    "## Statement of Work\n",
    "\n",
    "This is a statement to confirm that the work submitted within this repository is my own work. Any information sourced online or 3rd party has been referenced appropriately. I can therefore confirm that my submitted work is in line with the Quality Assurance Framework of GMIT.\n",
    "\n",
    "<br>\n",
    "\n",
    "-----------------------------\n",
    "\n",
    "## Technology Used\n",
    "\n",
    "* Anaconda software package\n",
    "* Python Programming Language\n",
    "* Command Prompt\n",
    "* Jupyter Notebook\n",
    "* GitHub.com\n",
    "* LearnOnline (GMIT)\n",
    "* Aim of Investigation\n",
    "* Findings\n",
    "* References\n",
    "\n",
    "<br>\n",
    "\n",
    "------------------------\n",
    "\n",
    "## Aim of Investigation\n",
    "\n",
    "1. Choose a real-world phenomenon that can be measured and for which you could at least one-hundred data points across at least four different variables.\n",
    "<br>\n",
    "2. Investigate the types of variables involved, their likely distributions, and their relationships with each other.\n",
    "<br>\n",
    "3. Synthesise / simulate a data set as closely matching their properties as possible.\n",
    "<br>\n",
    "4. Detail your research and implement the simulation in a Jupyter notebook - the data set itself can simply be displayed in an output cell within the notebook.\n",
    "\n",
    "<br>\n",
    "\n",
    "------------------------\n",
    "\n",
    "## Investigation\n",
    "\n",
    "For my project I have chosen to base my dataset on the real-world problem of employee attendance in call-centre employment.<br> \n",
    "I have 11 years experience working within the call-centre industry and during my time I have worked in various sectors and various companies. I have worked directly for a company and also third-party as a vendor. Within each employment there has been a continuous trend of high absence rates.<br> There are various factors (variables) that can play a role in this taking place. \n",
    "<br>\n",
    "There are numerous factors that could play a role in this issue including (but not limited to); <br>\n",
    "<li>Knowledge / training issues</li>\n",
    "<li>Management style</li>\n",
    "<li>High staff turnover</li>\n",
    "<li>Loyalty to the business</li>\n",
    "<li>Full-time / Part-time</li>\n",
    "<li>Low morale</li>\n",
    "<li>Disengagement</li>\n",
    "<li>General illness</li>\n",
    "<li>Stress</li>\n",
    "<li>Work experience</li>\n",
    "<br>\n",
    "The variables that I am going to work with are:\n",
    "<ul>\n",
    "    <li> <i><strong>Incidents </i></strong> - Number of absences within a rolling 6-month period</li>\n",
    "    <li> <i><strong>Hours </i></strong> - Full or part time employee</li>\n",
    "    <li> <i><strong>Rank</i></strong> - Based on performance each quarter</li>\n",
    "    <li> <i><strong>Months</i></strong> - Term of employment (how long have they been with the business) </li>\n",
    "</ul>\n",
    "<br>\n",
    "<i>Educational Note: It is worth noting that when writing the above list, I am seeing the closing brackets of Italics and Bold in red font indicating an error but the script runs and outputs without issue. I have not come across this before but having researched it, it appears to be related to indentation or a syntax issue. It might have something to do with the fact that I have functions in the list for italics and bold font.) [3] </i>\n",
    "\n",
    "The variable that I am most interested in with this investigation is the absense rate or number of absences for employees. <i>(incidents)</i>.\n",
    "\n",
    "<br>\n",
    "\n",
    "When I began my initial research for this project, I decided to firstly gather some basic information in relation to my chosen problem. Such information would include and previous studies on the topic, previously published reasons for the high level and any proven solutions or examples for solutions to the issue. <br>\n",
    "This brought me to my first Google search which was \"call centre attendance\". The results for this contained numerous hits of solutions and guides on how to tackle attendance issues. I feel that this alone shows the validity of my project choice. Rather than finding preventative and proactive information, I found solely reactive measures of what to do after it has happened and when it has become a problem.\n",
    "<br>\n",
    "Some of the many links that I came across prove the above statement that the information immediately avaiable appears to be reactive showing that there is a large need to tackle the issue before it becomes a situation. I have included 4 links for these examples in my references section of this repo. [4, 5, 6, 7]\n",
    "\n",
    "<br>\n",
    "The common assumption that a call centre enviorment is made up of an evenly split work-force of full-time and part-time employees is a common misconception. <br>\n",
    "In reality, the average business shows a majority of full-time employees and businesses are reluctant to offer part-time more freely. There is a certain stigma that part-time employees contribute less or have a lesser need for support in the workplace. This is not necessarily the case, yes the advisors are in the work place on a smaller timeframe however the productivity when measured on a per hour basis generally shows the same if not higher when compared to those in full-time employment. [8]  <br>\n",
    "\n",
    "<br>\n",
    "To begin my production of data, I wanted to firstly import the relevant packages needed. \n",
    "<br>\n",
    "I have chosen to work with a group of 100 random employees for my research, generating outputs involving each of the above selected variables. <br>\n",
    "\n",
    "-------------------------"
   ]
  },
  {
   "cell_type": "code",
   "execution_count": 136,
   "metadata": {},
   "outputs": [
    {
     "data": {
      "text/plain": [
       "0.517897468973732"
      ]
     },
     "execution_count": 136,
     "metadata": {},
     "output_type": "execute_result"
    }
   ],
   "source": [
    "# Importing all packages required for this repository.\n",
    "\n",
    "import matplotlib.pyplot as plt\n",
    "import numpy as np\n",
    "import seaborn as sns\n",
    "\n",
    "# The following code was ran to test that the numpy package was imported successfully.\n",
    "\n",
    "np.random.normal()"
   ]
  },
  {
   "cell_type": "code",
   "execution_count": 60,
   "metadata": {},
   "outputs": [
    {
     "data": {
      "image/png": "[encoded data removed]",
      "text/plain": [
       "<Figure size 432x288 with 1 Axes>"
      ]
     },
     "metadata": {
      "needs_background": "light"
     },
     "output_type": "display_data"
    }
   ],
   "source": [
    "### INCIDENTS\n",
    "# A business will always have a certain level of acceptable incidents before disciplinary proceedings & investigations begin.\n",
    "# The average number of call centres in 3 - within a rolling 6-month period.\n",
    "\n",
    "# I want to see what the current absence level is of a random sample of 100 employees.\n",
    "\n",
    "# For this script, I chose a sample of 100 with a range of 0 - 4 as it will not include those on 4th incidents.\n",
    "# Once an employee hits 4 incidents, it is common practice for investigations to begin with management and HR.\n",
    "\n",
    "# It would be beneficial for a business to utilise this function to reach out and try assist before employees get to a 4th.\n",
    "\n",
    "\n",
    "level = np.random.randint(low=0, high=4, size=100)\n",
    "plt.hist(level)\n",
    "plt.show()"
   ]
  },
  {
   "cell_type": "code",
   "execution_count": 45,
   "metadata": {},
   "outputs": [
    {
     "name": "stdout",
     "output_type": "stream",
     "text": [
      "[3.77152561 0.16010847 3.95208777 2.27564327 2.99819271 0.43910354]\n"
     ]
    }
   ],
   "source": [
    "# I wanted to create an output to show what the average absence incidents are for the 6 teams of the call centre.\n",
    "# Excluding those that are already over the limit of 3 incidents and already in the investigation proceedings.\n",
    "\n",
    "t = np.random.uniform(0, 4, 6)\n",
    "print(t)"
   ]
  },
  {
   "cell_type": "code",
   "execution_count": 111,
   "metadata": {},
   "outputs": [
    {
     "name": "stdout",
     "output_type": "stream",
     "text": [
      "[[0 0 0 1 1 0 1 1 1 1]\n",
      " [0 0 1 0 0 1 1 0 0 0]\n",
      " [0 1 1 0 0 0 0 0 1 0]\n",
      " [1 0 0 0 1 1 1 1 1 0]\n",
      " [1 0 0 1 0 1 1 1 1 1]\n",
      " [0 0 1 0 1 1 1 0 0 1]\n",
      " [1 0 0 1 0 0 1 1 0 0]\n",
      " [0 0 0 1 0 1 1 0 1 1]\n",
      " [0 0 0 1 0 1 0 1 1 1]\n",
      " [0 1 0 0 1 1 1 1 0 0]]\n"
     ]
    }
   ],
   "source": [
    "### HOURS\n",
    "\n",
    "h = np.random.choice([0, 1], size=(10, 10))\n",
    "print(h)"
   ]
  },
  {
   "cell_type": "code",
   "execution_count": 110,
   "metadata": {},
   "outputs": [
    {
     "data": {
      "image/png": "[encoded data removed]",
      "text/plain": [
       "<Figure size 432x288 with 1 Axes>"
      ]
     },
     "metadata": {
      "needs_background": "light"
     },
     "output_type": "display_data"
    }
   ],
   "source": [
    "plt.hist(h, bins=2)\n",
    "plt.show()\n",
    "\n",
    "# This histogram "
   ]
  },
  {
   "cell_type": "code",
   "execution_count": 126,
   "metadata": {},
   "outputs": [
    {
     "name": "stderr",
     "output_type": "stream",
     "text": [
      "C:\\Users\\valer\\AppData\\Local\\Continuum\\anaconda3\\lib\\site-packages\\scipy\\stats\\stats.py:1713: FutureWarning: Using a non-tuple sequence for multidimensional indexing is deprecated; use `arr[tuple(seq)]` instead of `arr[seq]`. In the future this will be interpreted as an array index, `arr[np.array(seq)]`, which will result either in an error or a different result.\n",
      "  return np.add.reduce(sorted[indexer] * weights, axis=axis) / sumval\n"
     ]
    },
    {
     "data": {
      "image/png": "[encoded data removed]",
      "text/plain": [
       "<Figure size 432x288 with 1 Axes>"
      ]
     },
     "metadata": {
      "needs_background": "light"
     },
     "output_type": "display_data"
    }
   ],
   "source": [
    "hr = np.random.rand (100)\n",
    "sns.distplot(hr)\n",
    "plt.show()\n",
    "\n",
    "# I had expected that a distribution plot would show output for the distribution of part time or full time employees.\n",
    "# Unfortunately this did not materialise based on what I have included within the code.\n",
    "# I have chosen to leave this in for an educational point to show the mistakes / errors encountered during my research."
   ]
  },
  {
   "cell_type": "code",
   "execution_count": 135,
   "metadata": {},
   "outputs": [
    {
     "data": {
      "text/plain": [
       "array([ True, False,  True, False,  True, False,  True,  True,  True,\n",
       "        True, False,  True,  True, False,  True,  True,  True,  True,\n",
       "        True, False, False,  True, False, False, False, False,  True,\n",
       "       False,  True,  True,  True, False,  True,  True,  True,  True,\n",
       "        True,  True,  True,  True,  True,  True, False, False, False,\n",
       "        True, False, False, False,  True, False, False,  True, False,\n",
       "       False,  True, False,  True,  True,  True, False,  True, False,\n",
       "        True, False,  True,  True, False, False,  True,  True,  True,\n",
       "        True,  True,  True,  True, False,  True, False,  True, False,\n",
       "       False, False, False, False,  True,  True, False,  True, False,\n",
       "        True,  True,  True, False,  True, False, False,  True,  True,\n",
       "       False])"
      ]
     },
     "execution_count": 135,
     "metadata": {},
     "output_type": "execute_result"
    }
   ],
   "source": [
    "np.random.randint(0, 2, size=100, dtype=np.uint8).view(bool)\n",
    "\n",
    "# Having found this line of code during my research, I felt that this would be an interesting option to get outputs.\n",
    "# In this script I would assume that True means 'Full time' employment and False means 'Part time' employment.\n",
    "# I ran the script with a Boolean output for an output for 100 random employees.\n",
    "\n",
    "# https://realpython.com/python-random/\n",
    "# This reference where I obtained the code states that an alternative option to the above is to run:\n",
    "# np.random.choice([True, False]) however the above code is a faster script to produce an output."
   ]
  },
  {
   "cell_type": "code",
   "execution_count": null,
   "metadata": {},
   "outputs": [],
   "source": []
  },
  {
   "cell_type": "code",
   "execution_count": 72,
   "metadata": {},
   "outputs": [
    {
     "name": "stdout",
     "output_type": "stream",
     "text": [
      "[ 90  56  10  72 102  60  54   5  95 114  22  37  27  47  81  76  85   7\n",
      "  69  15  57  63  60  15 109   6 102 106  79  22  38  23  13  38  71  81\n",
      "  47  30  45 100  10  33   3   1 110  39  15  18  24  40 112   2   8  24\n",
      " 114  80  59  13  50 113   7   8  44 107  13 110  62 111  60  53 112  47\n",
      "  66  88  50  27 108  14  97  76  23   8  37  32  51 104 107  37  66  53\n",
      "  28  12 107  21  36  41  69  23  61 100]\n"
     ]
    }
   ],
   "source": [
    "### MONTHS \n",
    "# This investigation is into the length of time an employee has been with the business.\n",
    "# The term of an employee can sometimes have a factor in their loyalty to the business and can sometimes have a lower level of absences.\n",
    "# As this output relates to whole numbers / integers, I chose to run the randint code.\n",
    "# The range of the values go from 1 month - 10 years of employment and I would like the output to include 100 employees.\n",
    "\n",
    "m = np.random.randint(low=1, high=120, size=100)\n",
    "print(m)"
   ]
  },
  {
   "cell_type": "code",
   "execution_count": 75,
   "metadata": {},
   "outputs": [
    {
     "data": {
      "image/png": "[encoded data removed]",
      "text/plain": [
       "<Figure size 432x288 with 1 Axes>"
      ]
     },
     "metadata": {
      "needs_background": "light"
     },
     "output_type": "display_data"
    }
   ],
   "source": [
    "plt.xlabel('Months')\n",
    "plt.ylabel('Employees')\n",
    "plt.title('Employment in Months')\n",
    "\n",
    "plt.hist(m)\n",
    "plt.show()\n",
    "\n",
    "# Having ran this script, I encountered an error where my values are on the wrong axes. I await a solution for this and can add this further down but I wish to leave this in to show hoepful development."
   ]
  },
  {
   "cell_type": "markdown",
   "metadata": {},
   "source": [
    "\n",
    "## Summary\n",
    "\n",
    "Rather than concentrating on ways to tackle and manage the poor behaviour, a better solution would be to analyse the management and enviornmental reasons that may causing it. Dealing with an issue at the start and improving this can avoid the outcome and a reactive reaction as opposed to proactive. Alot of absences that are not medically related can be avoided with management being more aware and more approachable. <br>\n",
    "<br>\n",
    "\n",
    "Basic examples of this would include:\n",
    "<ol>\n",
    "   <li>Introducing a management style that allows flexibility when it comes to the work/life balance. <br> \n",
    "<i>For example an advisor on a set 5 x 8hr shift that needs a shorter shift on one of their days might have the option to work extra hours on another day to make this up as opposed to having to request Annual Leave or call in sick due to having no other option. </i> </li>\n",
    "   <li>Gather feedback from advisors regularly in relation to their work life to determine if there are any issues that can be dealt with to make for a more content workforce.</li>\n",
    "   <li>Avoid the management style of everyone being 'just a number' in the industry. Staff may be on schedules and have metric to achieve and call volumes and service levels but these will all suffer in the long-term if the workforce are not nurtured.</li>\n",
    "    <li>Another point that I feel would benefit employees is to introduce some drive and passion for their work. An option for this would be to offer incentives / rewards for good attendance. Examples would include a bonus day's leave or a half-day for the top employee each month or quarter. From an expenses point of view this would lilkely be less costly than continuing absences.</li>\n",
    "</ol>\n",
    "\n",
    "<br>\n",
    "\n",
    "Having reviewed my previous works along with the feedback from them, I have learned to include my mistakes and my workings so that I can show the progression of the work and also learn from the mistakes. It also helps viewers of the work to see the errors and correction from an educational point of view. <br>\n",
    "I will ensure to leave some of my rough work in future repo's for this reason.\n",
    "\n",
    "<br>\n",
    "\n",
    "-------------------------\n",
    "\n",
    "## References\n",
    "1. https://statinfer.com/104-2-2-practice-working-with-datasets-in-python/\n",
    "2. https://jupyter.org/\n",
    "3. https://stackoverflow.com/questions/35330872/why-are-some-variables-and-comments-in-my-ipython-notebook-red\n",
    "4. https://www.callcentrehelper.com/top-tips-for-managing-absence-7998.htm\n",
    "5. https://www.callcentrehelper.com/managing-absenteeism-in-the-call-centre-168.htm\n",
    "6. https://cxcentral.com.au/for-managers/tips/top-ten-tips-for-reducing-absenteeism-in-your-call-centre/\n",
    "7. https://www.forbes.com/sites/investopedia/2013/07/10/the-causes-and-costs-of-absenteeism-in-the-workplace/#272c74023eb6\n",
    "8. https://www.callcentrehelper.com/how-to-optimise-part-time-working-in-the-call-centre-13100.htm\n",
    "9. \n",
    "10. \n",
    "11. \n",
    "12. \n",
    "13. \n",
    "14. https://realpython.com/python-random/\n",
    "15. \n",
    "16. \n",
    "17. \n",
    "18. \n",
    "19. \n",
    "20. \n",
    "21. \n",
    "\n"
   ]
  },
  {
   "cell_type": "code",
   "execution_count": null,
   "metadata": {},
   "outputs": [],
   "source": []
  }
 ],
 "metadata": {
  "kernelspec": {
   "display_name": "Python 3",
   "language": "python",
   "name": "python3"
  },
  "language_info": {
   "codemirror_mode": {
    "name": "ipython",
    "version": 3
   },
   "file_extension": ".py",
   "mimetype": "text/x-python",
   "name": "python",
   "nbconvert_exporter": "python",
   "pygments_lexer": "ipython3",
   "version": "3.7.0"
  }
 },
 "nbformat": 4,
 "nbformat_minor": 2
}
