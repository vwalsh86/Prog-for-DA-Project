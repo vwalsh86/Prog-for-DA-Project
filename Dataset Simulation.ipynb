{
 "cells": [
  {
   "cell_type": "markdown",
   "metadata": {},
   "source": [
    "# Dataset Simulation\n",
    "\n",
    "<br>\n",
    "\n",
    "![title [1]](datasetimage.PNG)\n",
    "\n",
    "<br>\n",
    "\n",
    "## Submitted by: Valerie Walsh G00364748\n",
    "\n",
    "\n",
    "<br>\n",
    "<br>\n",
    "\n",
    "------------------------\n",
    "\n",
    "### Assignment: Programming for Data Analysis\n",
    "\n",
    "<br>\n",
    "\n",
    "### Submission Date: 14th December 2018\n",
    "\n",
    "<br>\n",
    "\n",
    "--------------------------\n",
    "\n",
    "## Table of Contents\n",
    "\n",
    "<br>\n",
    "\n",
    "### Introduction\n",
    "### Statement of Work\n",
    "### Technology Used\n",
    "### Aim of Investigation\n",
    "### Investigation\n",
    "### Summary\n",
    "### References\n",
    "\n",
    "\n",
    "\n",
    "<br>\n",
    "\n",
    "------------------------------------\n",
    "------------------------------------\n",
    "\n",
    "\n",
    "## Introduction\n",
    "\n",
    "This repository has been created as apart of my coursework in Data Analytics. The subject of this repository is a study on Data Sets and the simulation and investigation of such. <br>\n",
    "I was given the freedom to pick my own topic for the research with the stipulation that it needs to be a real-life problem that can be investigated.\n",
    "It is my intention to use this repository to investigate all aspects of Data Set simulation with the available functions in Jupyter. [2] <br>\n",
    "\n",
    "Instructions on how to use Jupyter and the other systems that I am using can be found in the README file of this repo.\n",
    "\n",
    "<br>\n",
    "\n",
    "------------------------------\n",
    "\n",
    "## Statement of Work\n",
    "\n",
    "This is a statement to confirm that the work submitted within this repository is my own work. Any information sourced online or 3rd party has been referenced appropriately. I can therefore confirm that my submitted work is in line with the Quality Assurance Framework of GMIT.\n",
    "\n",
    "<br>\n",
    "\n",
    "-----------------------------\n",
    "\n",
    "## Technology Used\n",
    "\n",
    "* Anaconda software package\n",
    "* Python Programming Language\n",
    "* Command Prompt\n",
    "* Jupyter Notebook\n",
    "* GitHub.com\n",
    "* LearnOnline (GMIT)\n",
    "* Aim of Investigation\n",
    "* Findings\n",
    "* References\n",
    "\n",
    "<br>\n",
    "\n",
    "------------------------\n",
    "\n",
    "## Aim of Investigation\n",
    "\n",
    "1. Choose a real-world phenomenon that can be measured and for which you could at least one-hundred data points across at least four different variables.\n",
    "<br>\n",
    "2. Investigate the types of variables involved, their likely distributions, and their relationships with each other.\n",
    "<br>\n",
    "3. Synthesise / simulate a data set as closely matching their properties as possible.\n",
    "<br>\n",
    "4. Detail your research and implement the simulation in a Jupyter notebook - the data set itself can simply be displayed in an output cell within the notebook.\n",
    "\n",
    "<br>\n",
    "\n",
    "------------------------\n",
    "\n",
    "## Investigation\n",
    "\n",
    "For my project I have chosen to base my dataset on the real-world problem of employee attendance in call-centre employment.<br> \n",
    "I have 11 years experience working within the call-centre industry and during my time I have worked in various sectors and various companies. I have worked directly for a company and also third-party as a vendor. Within each employment there has been a continuous trend of high absence rates.<br> There are various factors (variables) that can play a role in this taking place. \n",
    "<br><br>\n",
    "\n",
    "There are numerous factors that could play a role in this issue including (but not limited to); <br>\n",
    "<li>Knowledge / training issues</li>\n",
    "<li>Management style</li>\n",
    "<li>High staff turnover</li>\n",
    "<li>Loyalty to the business</li>\n",
    "<li>Full-time / Part-time</li>\n",
    "<li>Low morale</li>\n",
    "<li>Disengagement</li>\n",
    "<li>General illness</li>\n",
    "<li>Stress</li>\n",
    "<li>Work experience</li>\n",
    "\n",
    "<br><br>\n",
    "\n",
    "The variables that I am going to work with are:\n",
    "<ul>\n",
    "    <li> <i><strong>Incidents </i></strong> - Number of absences within a rolling 6-month period</li>\n",
    "    <li> <i><strong>Hours </i></strong> - Full or part time employee</li>\n",
    "    <li> <i><strong>Rank</i></strong> - Based on performance each quarter</li>\n",
    "    <li> <i><strong>Months</i></strong> - Term of employment (how long have they been with the business) </li>\n",
    "</ul>\n",
    "<br>\n",
    "<i>Educational Note: It is worth noting that when writing the above list (and in edit mode in Jupyter), I am seeing the closing brackets of Italics and Bold in red font indicating an error but the script runs and outputs without issue. I have not come across this before but having researched it, it appears to be related to indentation or a syntax issue. It might have something to do with the fact that I have functions in the list for italics and bold font.) [3] </i>\n",
    "\n",
    "The variable that I am most interested in with this investigation is the absense rate or number of absences for employees - <i><strong>(incidents)</i></strong>\n",
    "\n",
    "<br>\n",
    "\n",
    "When I began my initial research for this project, I decided to firstly gather some basic information in relation to my chosen problem. Such information would include and previous studies on the topic, previously published reasons for the high level and any proven solutions or examples for solutions to the issue. <br>\n",
    "This brought me to my first Google search which was \"call centre attendance\". The results for this contained numerous hits of solutions and guides on how to tackle attendance issues. I feel that this alone shows the validity of my project choice. Rather than finding preventative and proactive information, I found solely reactive measures of what to do after it has happened and when it has become a problem.\n",
    "<br>\n",
    "Some of the many links that I came across prove the above statement that the information immediately avaiable appears to be reactive showing that there is a large need to tackle the issue before it becomes a situation. I have included 4 links for these examples in my references section of this repo. [4, 5, 6, 7]\n",
    "\n",
    "<br>\n",
    "The common assumption that a call centre enviorment is made up of an evenly split work-force of full-time and part-time employees is a common misconception. <br>\n",
    "In reality, the average business shows a majority of full-time employees and businesses are reluctant to offer part-time more freely. There is a certain stigma that part-time employees contribute less or have a lesser need for support in the workplace. This is not necessarily the case, yes the advisors are in the work place on a smaller timeframe however the productivity when measured on a per hour basis generally shows the same if not higher when compared to those in full-time employment. [8]  <br>\n",
    "\n",
    "<br>\n",
    "To begin my production of data, I wanted to firstly import the relevant packages needed. \n",
    "<br>\n",
    "I have chosen to work with a group of 100 random employees for my research, generating outputs involving each of the above selected variables. <br>\n",
    "\n",
    "-------------------------"
   ]
  },
  {
   "cell_type": "code",
   "execution_count": 10,
   "metadata": {},
   "outputs": [
    {
     "data": {
      "text/plain": [
       "1.548880478562378"
      ]
     },
     "execution_count": 10,
     "metadata": {},
     "output_type": "execute_result"
    }
   ],
   "source": [
    "# Importing all packages required for this repository.\n",
    "\n",
    "import matplotlib.pyplot as plt\n",
    "import numpy as np\n",
    "import seaborn as sns\n",
    "\n",
    "\n",
    "# The following code was ran to test that the numpy package was imported successfully.\n",
    "\n",
    "np.random.normal()"
   ]
  },
  {
   "cell_type": "code",
   "execution_count": 11,
   "metadata": {},
   "outputs": [
    {
     "data": {
      "text/plain": [
       "array([0, 3, 1, 3, 2, 2, 0, 3, 1, 2, 1, 3, 1, 3, 3, 1, 0, 3, 1, 3, 3, 1,\n",
       "       0, 2, 3, 1, 2, 0, 2, 0, 0, 0, 1, 2, 1, 2, 1, 0, 3, 0, 3, 0, 1, 1,\n",
       "       1, 3, 3, 2, 2, 2, 0, 3, 1, 2, 3, 2, 3, 1, 2, 1, 1, 2, 2, 0, 3, 2,\n",
       "       1, 2, 1, 0, 3, 0, 0, 0, 1, 2, 0, 3, 2, 0, 3, 1, 0, 2, 2, 1, 0, 0,\n",
       "       1, 2, 0, 3, 0, 0, 0, 2, 1, 2, 1, 3])"
      ]
     },
     "execution_count": 11,
     "metadata": {},
     "output_type": "execute_result"
    }
   ],
   "source": [
    "### INCIDENTS\n",
    "# A business will always have a certain level of acceptable incidents before disciplinary proceedings & investigations begin.\n",
    "# The average number of call centres in 3 - within a rolling 6-month period.\n",
    "\n",
    "# I want to see what the current absence level is of a random sample of 100 employees.\n",
    "\n",
    "# For this script, I chose a sample of 100 with a range of 0 - 4 as it will not include those on 4th incidents.\n",
    "# Once an employee hits 4 incidents, it is common practice for investigations to begin with management and HR.\n",
    "\n",
    "# It would be beneficial for a business to utilise this function to reach out and try assist before employees get to a 4th.\n",
    "\n",
    "\n",
    "np.random.randint(low=0, high=4, size=100)"
   ]
  },
  {
   "cell_type": "code",
   "execution_count": 13,
   "metadata": {},
   "outputs": [
    {
     "data": {
      "image/png": "[encoded data removed]",
      "text/plain": [
       "<Figure size 432x288 with 1 Axes>"
      ]
     },
     "metadata": {
      "needs_background": "light"
     },
     "output_type": "display_data"
    }
   ],
   "source": [
    "level = np.random.randint(low=0, high=4, size=100)\n",
    "plt.hist(level)\n",
    "plt.show()"
   ]
  },
  {
   "cell_type": "code",
   "execution_count": 45,
   "metadata": {},
   "outputs": [
    {
     "name": "stdout",
     "output_type": "stream",
     "text": [
      "[3.77152561 0.16010847 3.95208777 2.27564327 2.99819271 0.43910354]\n"
     ]
    }
   ],
   "source": [
    "# I wanted to create an output to show what the average absence incidents are for the 6 teams of the call centre.\n",
    "# Excluding those that are already over the limit of 3 incidents and already in the investigation proceedings.\n",
    "\n",
    "t = np.random.uniform(0, 4, 6)\n",
    "print(t)"
   ]
  },
  {
   "cell_type": "markdown",
   "metadata": {},
   "source": [
    "--------------------------------------------------"
   ]
  },
  {
   "cell_type": "code",
   "execution_count": 19,
   "metadata": {},
   "outputs": [
    {
     "name": "stdout",
     "output_type": "stream",
     "text": [
      "[[0 0 0 0 0 1 1 0 0 1]\n",
      " [1 0 1 1 1 1 0 1 1 0]\n",
      " [0 1 1 1 1 0 1 0 1 1]\n",
      " [0 1 1 0 0 1 1 0 0 0]\n",
      " [1 0 1 1 0 0 1 0 1 0]\n",
      " [1 1 0 1 1 0 1 1 1 0]]\n"
     ]
    }
   ],
   "source": [
    "### HOURS\n",
    "\n",
    "# I chose to run this script with the idea that 0 stood for part-time and 1 represented the full-time staff.\n",
    "# Each time I ran this script it confirmed my previous statement that full-time jobs are more plentiful in the industry.\n",
    "# There was always a lesser number for part-time when ran, this might not be the case every time.\n",
    "\n",
    "h = np.random.choice([0, 1], size=(6, 10))\n",
    "print(h)"
   ]
  },
  {
   "cell_type": "code",
   "execution_count": 20,
   "metadata": {},
   "outputs": [
    {
     "data": {
      "image/png": "[encoded data removed]",
      "text/plain": [
       "<Figure size 432x288 with 1 Axes>"
      ]
     },
     "metadata": {
      "needs_background": "light"
     },
     "output_type": "display_data"
    }
   ],
   "source": [
    "plt.hist(h, bins=2)\n",
    "plt.show()\n",
    "\n",
    "# This histogram was used to plot the above script showing the lay of the land for part time and full time employees"
   ]
  },
  {
   "cell_type": "code",
   "execution_count": 126,
   "metadata": {},
   "outputs": [
    {
     "name": "stderr",
     "output_type": "stream",
     "text": [
      "C:\\Users\\valer\\AppData\\Local\\Continuum\\anaconda3\\lib\\site-packages\\scipy\\stats\\stats.py:1713: FutureWarning: Using a non-tuple sequence for multidimensional indexing is deprecated; use `arr[tuple(seq)]` instead of `arr[seq]`. In the future this will be interpreted as an array index, `arr[np.array(seq)]`, which will result either in an error or a different result.\n",
      "  return np.add.reduce(sorted[indexer] * weights, axis=axis) / sumval\n"
     ]
    },
    {
     "data": {
      "image/png": "[encoded data removed]",
      "text/plain": [
       "<Figure size 432x288 with 1 Axes>"
      ]
     },
     "metadata": {
      "needs_background": "light"
     },
     "output_type": "display_data"
    }
   ],
   "source": [
    "hr = np.random.rand (100)\n",
    "sns.distplot(hr)\n",
    "plt.show()\n",
    "\n",
    "# I had expected that a distribution plot would show output for the distribution of part time or full time employees.\n",
    "# Unfortunately this did not materialise based on what I have included within the code.\n",
    "# I have chosen to leave this in for an educational point to show the mistakes / errors encountered during my research."
   ]
  },
  {
   "cell_type": "code",
   "execution_count": 135,
   "metadata": {},
   "outputs": [
    {
     "data": {
      "text/plain": [
       "array([ True, False,  True, False,  True, False,  True,  True,  True,\n",
       "        True, False,  True,  True, False,  True,  True,  True,  True,\n",
       "        True, False, False,  True, False, False, False, False,  True,\n",
       "       False,  True,  True,  True, False,  True,  True,  True,  True,\n",
       "        True,  True,  True,  True,  True,  True, False, False, False,\n",
       "        True, False, False, False,  True, False, False,  True, False,\n",
       "       False,  True, False,  True,  True,  True, False,  True, False,\n",
       "        True, False,  True,  True, False, False,  True,  True,  True,\n",
       "        True,  True,  True,  True, False,  True, False,  True, False,\n",
       "       False, False, False, False,  True,  True, False,  True, False,\n",
       "        True,  True,  True, False,  True, False, False,  True,  True,\n",
       "       False])"
      ]
     },
     "execution_count": 135,
     "metadata": {},
     "output_type": "execute_result"
    }
   ],
   "source": [
    "np.random.randint(0, 2, size=100, dtype=np.uint8).view(bool)\n",
    "\n",
    "# Having found this line of code during my research, I felt that this would be an interesting option to get outputs.\n",
    "# In this script I would assume that True means 'Full time' employment and False means 'Part time' employment.\n",
    "# I ran the script with a Boolean output for an output for 100 random employees.\n",
    "\n",
    "# https://realpython.com/python-random/\n",
    "# This reference where I obtained the code states that an alternative option to the above is to run:\n",
    "# np.random.choice([True, False]) however the above code is a faster script to produce an output.\n",
    "# I chose to go with this script having learned its a faster code to produce output than my 1st choice."
   ]
  },
  {
   "cell_type": "markdown",
   "metadata": {},
   "source": [
    "------------------------------------------------------"
   ]
  },
  {
   "cell_type": "code",
   "execution_count": 46,
   "metadata": {},
   "outputs": [
    {
     "name": "stdout",
     "output_type": "stream",
     "text": [
      "[[27 92 83  1 43  9 28 62 79 54]\n",
      " [26 57 74 52 97  2 42  6 64 42]\n",
      " [50 67 47 23 87 83 53 86 50 86]\n",
      " [54 44 67 91 30 55 70 15 87 36]\n",
      " [87  1  1  6  3 86 23 87 46 32]\n",
      " [25  8 26 99 23 52 22 29  1 36]\n",
      " [79 24 67 74 27 79 18 35 85 95]\n",
      " [49 98 27 88 61  6 22 29 91 95]\n",
      " [68 59 76 58  7 31  7 68 90 95]\n",
      " [ 1 96 25 65 86 42 73 32 84 31]]\n"
     ]
    }
   ],
   "source": [
    "# RANK\n",
    "\n",
    "# It is common practice for call-centres to have a quarterly / monthly ranking file which shows the performance of employees.\n",
    "# This ranking file takes into consideration the work carried out while an employee is in work and taking calls.\n",
    "# The ranking file is generally calculated based on the length of time in work, calls taken, call duration and schedule adherence.\n",
    "# It does not factor in any considerstaions such as sick leave / holidays / training off the phones.\n",
    "\n",
    "\n",
    "data = np.random.randint(low=1,high=100,size=(10,10),dtype='int')\n",
    "print(data)"
   ]
  },
  {
   "cell_type": "code",
   "execution_count": 51,
   "metadata": {},
   "outputs": [
    {
     "data": {
      "image/png": "[encoded data removed]",
      "text/plain": [
       "<Figure size 432x288 with 1 Axes>"
      ]
     },
     "metadata": {
      "needs_background": "light"
     },
     "output_type": "display_data"
    }
   ],
   "source": [
    "plt.hist(data, bins=2)\n",
    "plt.show()"
   ]
  },
  {
   "cell_type": "code",
   "execution_count": 60,
   "metadata": {},
   "outputs": [
    {
     "name": "stdout",
     "output_type": "stream",
     "text": [
      "[[40 52 48 55 49 42 50 51 59 57]\n",
      " [58 40 43 51 57 50 47 51 51 56]]\n"
     ]
    },
    {
     "data": {
      "image/png": "[encoded data removed]",
      "text/plain": [
       "<Figure size 432x288 with 1 Axes>"
      ]
     },
     "metadata": {
      "needs_background": "light"
     },
     "output_type": "display_data"
    }
   ],
   "source": [
    "# I wanted to take the population of those underperforming, generally 40%-60% performance and see this output.\n",
    "# Anyone that was ranking below a 40% performance would be introduced to a disciplinary route.\n",
    "# This category of employees would be a great pool to be micro managed for a quarter with additional support and review \n",
    "# after this to compare and see if there are any performance improvements before looking at a disciplinary option.\n",
    "\n",
    "middle = np.random.randint(low=40,high=60,size=(2,10),dtype='int')\n",
    "print(middle)\n",
    "plt.hist(middle, bins=2)\n",
    "plt.show()"
   ]
  },
  {
   "cell_type": "code",
   "execution_count": 65,
   "metadata": {},
   "outputs": [
    {
     "name": "stdout",
     "output_type": "stream",
     "text": [
      "[[98 94 62 98 83 86 95 71 99 91]\n",
      " [98 88 84 66 61 98 89 91 66 99]\n",
      " [70 81 96 91 79 97 65 65 64 95]\n",
      " [67 85 70 86 66 80 84 87 78 64]]\n"
     ]
    },
    {
     "data": {
      "image/png": "[encoded data removed]",
      "text/plain": [
       "<Figure size 432x288 with 1 Axes>"
      ]
     },
     "metadata": {
      "needs_background": "light"
     },
     "output_type": "display_data"
    }
   ],
   "source": [
    "# The top performers output is the final option I wish to review in this variable to see the layout.\n",
    "\n",
    "top = np.random.randint(low=61,high=100,size=(4,10),dtype='int')\n",
    "print(top)\n",
    "plt.hist(top, bins=2)\n",
    "plt.show()"
   ]
  },
  {
   "cell_type": "markdown",
   "metadata": {},
   "source": [
    "Up until this point, I was using the scripts to get the output and then producing it on a visual graph via a Historgram.\n",
    "<br>\n",
    "I wanted to be able to arrange / sort the outputs of the scripts to view the data in ascending order so I used the numpy.sort function as per below. [10]"
   ]
  },
  {
   "cell_type": "code",
   "execution_count": 69,
   "metadata": {},
   "outputs": [
    {
     "data": {
      "text/plain": [
       "array([[64, 66, 67, 70, 78, 80, 84, 85, 86, 87],\n",
       "       [61, 66, 66, 84, 88, 89, 91, 98, 98, 99],\n",
       "       [62, 71, 83, 86, 91, 94, 95, 98, 98, 99],\n",
       "       [64, 65, 65, 70, 79, 81, 91, 95, 96, 97]])"
      ]
     },
     "execution_count": 69,
     "metadata": {},
     "output_type": "execute_result"
    }
   ],
   "source": [
    "np.sort(top)"
   ]
  },
  {
   "cell_type": "markdown",
   "metadata": {},
   "source": [
    "---------------------------------------------------"
   ]
  },
  {
   "cell_type": "code",
   "execution_count": 22,
   "metadata": {},
   "outputs": [
    {
     "name": "stdout",
     "output_type": "stream",
     "text": [
      "[ 98 115  56  32  52  41 114  11  48  64  43 108 106  31  23  17  39  90\n",
      "   8  31  62  55 102  60  84 106 113  86  85  36  43  76  40  15  21  47\n",
      " 107  30  65  40  80  55  26  58  87 112  84  79  20  77   8  31  58  29\n",
      "  37   4  45  41  50  55   9  94  66  14  71  50 100  49 111  70 114  91\n",
      "  61  11   1  11  87  90  63  89  54  70  98 108 114  30   4  93  30  28\n",
      "  41 109  59   8  53  97 118  78  61  84]\n"
     ]
    }
   ],
   "source": [
    "### MONTHS \n",
    "# This investigation is into the length of time an employee has been with the business.\n",
    "# The term of an employee can sometimes have a factor in their loyalty to the business and can sometimes have a lower level of absences.\n",
    "# As this output relates to whole numbers / integers, I chose to run the randint code.\n",
    "# The range of the values go from 1 month - 10 years of employment and I would like the output to include 100 employees.\n",
    "\n",
    "m = np.random.randint(low=1, high=120, size=100)\n",
    "print(m)"
   ]
  },
  {
   "cell_type": "code",
   "execution_count": 70,
   "metadata": {},
   "outputs": [
    {
     "data": {
      "text/plain": [
       "array([  1,   4,   4,   8,   8,   8,   9,  11,  11,  11,  14,  15,  17,\n",
       "        20,  21,  23,  26,  28,  29,  30,  30,  30,  31,  31,  31,  32,\n",
       "        36,  37,  39,  40,  40,  41,  41,  41,  43,  43,  45,  47,  48,\n",
       "        49,  50,  50,  52,  53,  54,  55,  55,  55,  56,  58,  58,  59,\n",
       "        60,  61,  61,  62,  63,  64,  65,  66,  70,  70,  71,  76,  77,\n",
       "        78,  79,  80,  84,  84,  84,  85,  86,  87,  87,  89,  90,  90,\n",
       "        91,  93,  94,  97,  98,  98, 100, 102, 106, 106, 107, 108, 108,\n",
       "       109, 111, 112, 113, 114, 114, 114, 115, 118])"
      ]
     },
     "execution_count": 70,
     "metadata": {},
     "output_type": "execute_result"
    }
   ],
   "source": [
    "np.sort(m)"
   ]
  },
  {
   "cell_type": "code",
   "execution_count": 23,
   "metadata": {},
   "outputs": [
    {
     "data": {
      "image/png": "[encoded data removed]",
      "text/plain": [
       "<Figure size 432x288 with 1 Axes>"
      ]
     },
     "metadata": {
      "needs_background": "light"
     },
     "output_type": "display_data"
    }
   ],
   "source": [
    "plt.xlabel('Months')\n",
    "plt.ylabel('Employees')\n",
    "plt.title('Employment in Months')\n",
    "\n",
    "plt.hist(m)\n",
    "plt.show()\n",
    "\n",
    "# Having ran this script, I fel that I had encountered an error where my values are on the wrong axes. \n",
    "# I reached out for support through my peers via the internal college discussions page and I was advised it looked right.\n",
    "# The Y Axis holds the number of employees and the X Axis represents the time they are in employment\n",
    "# It was my perception that the term (months) should appear on the vertical but upon review I am happy as it appears."
   ]
  },
  {
   "cell_type": "markdown",
   "metadata": {},
   "source": [
    "---------------------------------------"
   ]
  },
  {
   "cell_type": "markdown",
   "metadata": {},
   "source": [
    "\n",
    "## Summary\n",
    "<br>\n",
    "\n",
    "\n",
    "Having ran and investigated the above 4 variables, it would be fair to say that at least one if not all of them are closely related. When it comes to attendance, if the incidents do not relate directly to illness there are other factors that could be taken into consideration. <br>\n",
    "Incidents for example; if these are below the threshold for disciplinaries an employee is more likely to abuse the system if they need time off and cannot get annual leave. To tackle this, a business might introduce an incentive for rewarding those with low incidents / absence numbers. \n",
    "<br> <br>\n",
    "The ranking / performance of an employee can have a positive or negative affect on their mental and professional state which may lead to incidents if it is not properly managed and plans in place to tackle and improve or review each quarter. \n",
    "<br><br>\n",
    "The length of time of an employees term of employment can also be linked / mapped into reviewing their performance or attendance and again if this is dealt with head on from the beginning it can erase the stigmata and acceptance of poor attendance. \n",
    "<br><br>\n",
    "\n",
    "Rather than concentrating on ways to tackle and manage the poor behaviour, a better solution would be to analyse the management and enviornmental reasons that may causing it. Dealing with an issue at the start and improving this can avoid the outcome and a reactive reaction as opposed to proactive. Alot of absences that are not medically related can be avoided with management being more aware and more approachable. \n",
    "<br><br>\n",
    "\n",
    "<strong>Basic examples of this would include:</strong>\n",
    "<ol>\n",
    "   <li>Introducing a management style that allows flexibility when it comes to the work/life balance. <br> \n",
    "<i>For example an advisor on a set 5 x 8hr shift that needs a shorter shift on one of their days might have the option to work extra hours on another day to make this up as opposed to having to request Annual Leave or call in sick due to having no other option. </i> </li>\n",
    "   <li>Gather feedback from advisors regularly in relation to their work life to determine if there are any issues that can be dealt with to make for a more content workforce.</li>\n",
    "   <li>Avoid the management style of everyone being 'just a number' in the industry. Staff may be on schedules and have metric to achieve and call volumes and service levels but these will all suffer in the long-term if the workforce are not nurtured.</li>\n",
    "    <li>Another point that I feel would benefit employees is to introduce some drive and passion for their work. An option for this would be to offer incentives / rewards for good attendance. Examples would include a bonus day's leave or a half-day for the top employee each month or quarter. From an expenses point of view this would lilkely be less costly than continuing absences.</li>\n",
    "</ol>\n",
    "\n",
    "<br><br>\n",
    "\n",
    "Having reviewed the feedback based on my previous submissions, I have learned to include my mistakes and my workings so that I can show the progression of the work and also learn from the mistakes. It also helps viewers of the work to see the errors and correction from an educational point of view. <br>\n",
    "This is something that I will ensure to include going forward in future repositories.\n",
    "\n",
    "<br>\n",
    "\n",
    "Having completed this assignment, I have learned alot about how to research, how to plan and map out a project and also have to manage your time. <br>\n",
    "The one major factor which I learned from this time around is from a time management perspective. And when presented with 2 projects, work with the bigger one first. I was provided with information for this project and a project for a lesser-weighed subject. I chose to work on the lesser first with the mindset that the smaller one would get done quicker which it did but looking back the bigger project would have been spanned out of over longer period of time if I have started with that one first. <br>\n",
    "Time management may not factor in delays such as illness, family emergencies, work commitments so going forward I will reach for the larger task first.\n",
    "\n",
    "\n",
    "-------------------------\n",
    "\n",
    "## References\n",
    "\n",
    "1. https://statinfer.com/104-2-2-practice-working-with-datasets-in-python/\n",
    "2. https://jupyter.org/\n",
    "3. https://stackoverflow.com/questions/35330872/why-are-some-variables-and-comments-in-my-ipython-notebook-red\n",
    "4. https://www.callcentrehelper.com/top-tips-for-managing-absence-7998.htm\n",
    "5. https://www.callcentrehelper.com/managing-absenteeism-in-the-call-centre-168.htm\n",
    "6. https://cxcentral.com.au/for-managers/tips/top-ten-tips-for-reducing-absenteeism-in-your-call-centre/\n",
    "7. https://www.forbes.com/sites/investopedia/2013/07/10/the-causes-and-costs-of-absenteeism-in-the-workplace/#272c74023eb6\n",
    "8. https://www.callcentrehelper.com/how-to-optimise-part-time-working-in-the-call-centre-13100.htm\n",
    "9.  https://realpython.com/python-random/\n",
    "10. https://docs.scipy.org/doc/numpy/reference/generated/numpy.sort.html\n",
    "11. https://docs.scipy.org/doc/numpy-1.15.1/reference/routines.random.html\n",
    "12. https://stackoverflow.com/questions/16312006/python-numpy-random-normal-only-positive-values\n",
    "13. https://realpython.com/python-random/\n",
    "14. https://stackoverflow.com/questions/48118647/how-to-generate-random-numbers-with-if-statement-in-python\n",
    "15. https://stackoverflow.com/questions/21494489/what-does-numpy-random-seed0-do\n",
    "16. https://github.com/jupyter/notebook/issues/2497\n",
    "17. https://statinfer.com/104-2-2-practice-working-with-datasets-in-python/\n",
    "18. https://matplotlib.org/api/_as_gen/matplotlib.pyplot.hist.html\n",
    "19. https://cran.r-project.org/web/packages/simstudy/vignettes/simstudy.html\n",
    "20. https://chrisalbon.com/python/basics/generating_random_numbers_with_numpy/\n",
    "21. https://stackoverflow.com/questions/15194468/how-to-generate-n-dimensional-random-variables-in-a-specific-range-in-python"
   ]
  }
 ],
 "metadata": {
  "kernelspec": {
   "display_name": "Python 3",
   "language": "python",
   "name": "python3"
  },
  "language_info": {
   "codemirror_mode": {
    "name": "ipython",
    "version": 3
   },
   "file_extension": ".py",
   "mimetype": "text/x-python",
   "name": "python",
   "nbconvert_exporter": "python",
   "pygments_lexer": "ipython3",
   "version": "3.7.0"
  }
 },
 "nbformat": 4,
 "nbformat_minor": 2
}
